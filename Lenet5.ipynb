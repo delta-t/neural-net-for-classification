{
  "nbformat": 4,
  "nbformat_minor": 0,
  "metadata": {
    "colab": {
      "name": "Lenet5.ipynb",
      "version": "0.3.2",
      "provenance": [],
      "include_colab_link": true
    },
    "kernelspec": {
      "name": "python3",
      "display_name": "Python 3"
    },
    "accelerator": "GPU"
  },
  "cells": [
    {
      "cell_type": "markdown",
      "metadata": {
        "id": "view-in-github",
        "colab_type": "text"
      },
      "source": [
        "<a href=\"https://colab.research.google.com/github/newman001/neural-net-for-classification/blob/master/Lenet5.ipynb\" target=\"_parent\"><img src=\"https://colab.research.google.com/assets/colab-badge.svg\" alt=\"Open In Colab\"/></a>"
      ]
    },
    {
      "cell_type": "code",
      "metadata": {
        "id": "DzROTPv5CcVT",
        "colab_type": "code",
        "colab": {}
      },
      "source": [
        "import torch\n",
        "import random\n",
        "import numpy as np\n",
        "\n",
        "\n",
        "random.seed(0)\n",
        "np.random.seed(0)\n",
        "torch.manual_seed(0)\n",
        "torch.cuda.manual_seed(0)\n",
        "torch.backends.cudnn.deterministic = True"
      ],
      "execution_count": 0,
      "outputs": []
    },
    {
      "cell_type": "code",
      "metadata": {
        "id": "c5ygexZsCzu_",
        "colab_type": "code",
        "colab": {}
      },
      "source": [
        "import torchvision.datasets"
      ],
      "execution_count": 0,
      "outputs": []
    },
    {
      "cell_type": "code",
      "metadata": {
        "id": "w8eqrtKeC28F",
        "colab_type": "code",
        "colab": {}
      },
      "source": [
        "MNIST_train = torchvision.datasets.MNIST('./', download=True, train=True)\n",
        "MNIST_test = torchvision.datasets.MNIST('./', download=True, train=False);"
      ],
      "execution_count": 0,
      "outputs": []
    },
    {
      "cell_type": "code",
      "metadata": {
        "id": "_DYYkzlLJFiI",
        "colab_type": "code",
        "colab": {
          "base_uri": "https://localhost:8080/",
          "height": 173
        },
        "outputId": "a96bc488-31d9-4680-ecf0-b5d750ece3a0"
      },
      "source": [
        "X_train = MNIST_train.train_data\n",
        "y_train = MNIST_train.train_labels\n",
        "X_test = MNIST_test.test_data\n",
        "y_test = MNIST_test.test_labels"
      ],
      "execution_count": 26,
      "outputs": [
        {
          "output_type": "stream",
          "text": [
            "/usr/local/lib/python3.6/dist-packages/torchvision/datasets/mnist.py:53: UserWarning: train_data has been renamed data\n",
            "  warnings.warn(\"train_data has been renamed data\")\n",
            "/usr/local/lib/python3.6/dist-packages/torchvision/datasets/mnist.py:43: UserWarning: train_labels has been renamed targets\n",
            "  warnings.warn(\"train_labels has been renamed targets\")\n",
            "/usr/local/lib/python3.6/dist-packages/torchvision/datasets/mnist.py:58: UserWarning: test_data has been renamed data\n",
            "  warnings.warn(\"test_data has been renamed data\")\n",
            "/usr/local/lib/python3.6/dist-packages/torchvision/datasets/mnist.py:48: UserWarning: test_labels has been renamed targets\n",
            "  warnings.warn(\"test_labels has been renamed targets\")\n"
          ],
          "name": "stderr"
        }
      ]
    },
    {
      "cell_type": "code",
      "metadata": {
        "id": "ZIrGkMQeJWtw",
        "colab_type": "code",
        "colab": {
          "base_uri": "https://localhost:8080/",
          "height": 34
        },
        "outputId": "ba8c1c7f-89e5-48f7-81d9-d9187974da7c"
      },
      "source": [
        "len(y_train), len(y_test)"
      ],
      "execution_count": 27,
      "outputs": [
        {
          "output_type": "execute_result",
          "data": {
            "text/plain": [
              "(60000, 10000)"
            ]
          },
          "metadata": {
            "tags": []
          },
          "execution_count": 27
        }
      ]
    },
    {
      "cell_type": "code",
      "metadata": {
        "id": "Hjs3MxSbJx23",
        "colab_type": "code",
        "colab": {
          "base_uri": "https://localhost:8080/",
          "height": 286
        },
        "outputId": "22d95c60-9621-4f19-a501-1bf229d3acac"
      },
      "source": [
        "import matplotlib.pyplot as plt\n",
        "plt.imshow(X_train[0, :, :])\n",
        "plt.show()\n",
        "print(y_train[0])"
      ],
      "execution_count": 28,
      "outputs": [
        {
          "output_type": "display_data",
          "data": {
            "image/png": "[encoded data removed]",
            "text/plain": [
              "<Figure size 432x288 with 1 Axes>"
            ]
          },
          "metadata": {
            "tags": []
          }
        },
        {
          "output_type": "stream",
          "text": [
            "tensor(5)\n"
          ],
          "name": "stdout"
        }
      ]
    },
    {
      "cell_type": "code",
      "metadata": {
        "id": "rOGPh5-OKYis",
        "colab_type": "code",
        "colab": {}
      },
      "source": [
        "X_train = X_train.unsqueeze(1).float()\n",
        "X_test = X_test.unsqueeze(1).float()"
      ],
      "execution_count": 0,
      "outputs": []
    },
    {
      "cell_type": "code",
      "metadata": {
        "id": "LBHQXOZ0KoHu",
        "colab_type": "code",
        "colab": {
          "base_uri": "https://localhost:8080/",
          "height": 34
        },
        "outputId": "2f6e32fd-c7ee-4b9a-e10f-0c2db8364e6c"
      },
      "source": [
        "X_train.shape"
      ],
      "execution_count": 30,
      "outputs": [
        {
          "output_type": "execute_result",
          "data": {
            "text/plain": [
              "torch.Size([60000, 1, 28, 28])"
            ]
          },
          "metadata": {
            "tags": []
          },
          "execution_count": 30
        }
      ]
    },
    {
      "cell_type": "code",
      "metadata": {
        "id": "Xl9_QwfMKquZ",
        "colab_type": "code",
        "colab": {}
      },
      "source": [
        "class LeNet5(torch.nn.Module):\n",
        "  def __init__(self):\n",
        "    super(LeNet5, self).__init__()\n",
        "    \n",
        "    self.conv1 = torch.nn.Conv2d(\n",
        "      in_channels=1, out_channels=6, kernel_size=5, padding=2)\n",
        "    self.act1 = torch.nn.Tanh()\n",
        "    self.pool1 = torch.nn.AvgPool2d(kernel_size=2, stride=2)\n",
        "    \n",
        "    self.conv2 = torch.nn.Conv2d(\n",
        "      in_channels=6, out_channels=16, kernel_size=5, padding=0)\n",
        "    self.act2 = torch.nn.Tanh()\n",
        "    self.pool2 = torch.nn.AvgPool2d(kernel_size=2, stride=2)\n",
        "    \n",
        "    self.fc1 = torch.nn.Linear(5*5*16, 120)\n",
        "    self.act3 = torch.nn.Tanh()\n",
        "    \n",
        "    self.fc2 = torch.nn.Linear(120, 84)\n",
        "    self.act4 = torch.nn.Tanh()\n",
        "    \n",
        "    self.fc3 = torch.nn.Linear(84, 10)\n",
        "    \n",
        "  def forward(self, x):\n",
        "    x = self.conv1(x)\n",
        "    x = self.act1(x)\n",
        "    x = self.pool1(x)\n",
        "    \n",
        "    x = self.conv2(x)\n",
        "    x = self.act2(x)\n",
        "    x = self.pool2(x)\n",
        "    \n",
        "    x = x.view(x.size(0), x.size(1) * x.size(2) * x.size(3))\n",
        "    \n",
        "    x = self.fc1(x)\n",
        "    x = self.act3(x)\n",
        "    x = self.fc2(x)\n",
        "    x = self.act4(x)\n",
        "    x = self.fc3(x)\n",
        "    \n",
        "    return x\n",
        "  \n",
        "lenet5 = LeNet5()"
      ],
      "execution_count": 0,
      "outputs": []
    },
    {
      "cell_type": "code",
      "metadata": {
        "id": "bNIBi9F5NuJr",
        "colab_type": "code",
        "colab": {}
      },
      "source": [
        "device = torch.device('cuda:0' if torch.cuda.is_available() else 'cpu')\n",
        "lenet5 = lenet5.to(device)"
      ],
      "execution_count": 0,
      "outputs": []
    },
    {
      "cell_type": "code",
      "metadata": {
        "id": "6zpvkuh7OHgh",
        "colab_type": "code",
        "colab": {}
      },
      "source": [
        "loss = torch.nn.CrossEntropyLoss()\n",
        "optimizer = torch.optim.Adam(lenet5.parameters(), lr=1.0e-3)"
      ],
      "execution_count": 0,
      "outputs": []
    },
    {
      "cell_type": "code",
      "metadata": {
        "id": "M09VZCUQObRY",
        "colab_type": "code",
        "colab": {
          "base_uri": "https://localhost:8080/",
          "height": 1000
        },
        "outputId": "c9945fb3-e1d5-4627-ff1f-a164bfe18c50"
      },
      "source": [
        "batch_size = 100\n",
        "\n",
        "test_accuracy_history = []\n",
        "test_loss_history = []\n",
        "\n",
        "X_test = X_test.to(device)\n",
        "y_test = y_test.to(device)\n",
        "\n",
        "for epoch in range(100):\n",
        "  order = np.random.permutation(len(X_train))\n",
        "  for start_index in range(0, len(X_train), batch_size):\n",
        "    optimizer.zero_grad()\n",
        "    \n",
        "    batch_indexes = order[start_index:start_index+batch_size]\n",
        "    \n",
        "    X_batch = X_train[batch_indexes].to(device)\n",
        "    y_batch = y_train[batch_indexes].to(device)\n",
        "    \n",
        "    preds = lenet5.forward(X_batch)\n",
        "    \n",
        "    loss_value = loss(preds, y_batch)\n",
        "    loss_value.backward()\n",
        "    \n",
        "    optimizer.step()\n",
        "    \n",
        "  test_preds = lenet5.forward(X_test)\n",
        "  test_loss_history.append(loss(test_preds, y_test).data.cpu())\n",
        "  \n",
        "  accuracy = (test_preds.argmax(dim=1) == y_test).float().mean().data.cpu()\n",
        "  test_accuracy_history.append(accuracy)\n",
        "  \n",
        "  print(accuracy)"
      ],
      "execution_count": 34,
      "outputs": [
        {
          "output_type": "stream",
          "text": [
            "tensor(0.9776)\n",
            "tensor(0.9827)\n",
            "tensor(0.9857)\n",
            "tensor(0.9873)\n",
            "tensor(0.9885)\n",
            "tensor(0.9879)\n",
            "tensor(0.9875)\n",
            "tensor(0.9879)\n",
            "tensor(0.9887)\n",
            "tensor(0.9878)\n",
            "tensor(0.9890)\n",
            "tensor(0.9890)\n",
            "tensor(0.9890)\n",
            "tensor(0.9865)\n",
            "tensor(0.9892)\n",
            "tensor(0.9896)\n",
            "tensor(0.9900)\n",
            "tensor(0.9885)\n",
            "tensor(0.9877)\n",
            "tensor(0.9902)\n",
            "tensor(0.9892)\n",
            "tensor(0.9865)\n",
            "tensor(0.9883)\n",
            "tensor(0.9875)\n",
            "tensor(0.9879)\n",
            "tensor(0.9887)\n",
            "tensor(0.9875)\n",
            "tensor(0.9888)\n",
            "tensor(0.9889)\n",
            "tensor(0.9896)\n",
            "tensor(0.9884)\n",
            "tensor(0.9877)\n",
            "tensor(0.9859)\n",
            "tensor(0.9887)\n",
            "tensor(0.9882)\n",
            "tensor(0.9882)\n",
            "tensor(0.9898)\n",
            "tensor(0.9887)\n",
            "tensor(0.9909)\n",
            "tensor(0.9904)\n",
            "tensor(0.9877)\n",
            "tensor(0.9889)\n",
            "tensor(0.9884)\n",
            "tensor(0.9875)\n",
            "tensor(0.9878)\n",
            "tensor(0.9883)\n",
            "tensor(0.9885)\n",
            "tensor(0.9879)\n",
            "tensor(0.9887)\n",
            "tensor(0.9896)\n",
            "tensor(0.9892)\n",
            "tensor(0.9891)\n",
            "tensor(0.9886)\n",
            "tensor(0.9887)\n",
            "tensor(0.9883)\n",
            "tensor(0.9856)\n",
            "tensor(0.9880)\n",
            "tensor(0.9890)\n",
            "tensor(0.9904)\n",
            "tensor(0.9882)\n",
            "tensor(0.9869)\n",
            "tensor(0.9885)\n",
            "tensor(0.9880)\n",
            "tensor(0.9903)\n",
            "tensor(0.9877)\n",
            "tensor(0.9879)\n",
            "tensor(0.9884)\n",
            "tensor(0.9885)\n",
            "tensor(0.9893)\n",
            "tensor(0.9896)\n",
            "tensor(0.9885)\n",
            "tensor(0.9882)\n",
            "tensor(0.9896)\n",
            "tensor(0.9878)\n",
            "tensor(0.9886)\n",
            "tensor(0.9878)\n",
            "tensor(0.9877)\n",
            "tensor(0.9882)\n",
            "tensor(0.9884)\n",
            "tensor(0.9852)\n",
            "tensor(0.9884)\n",
            "tensor(0.9888)\n",
            "tensor(0.9888)\n",
            "tensor(0.9890)\n",
            "tensor(0.9901)\n",
            "tensor(0.9874)\n",
            "tensor(0.9874)\n",
            "tensor(0.9883)\n",
            "tensor(0.9886)\n",
            "tensor(0.9893)\n",
            "tensor(0.9903)\n",
            "tensor(0.9896)\n",
            "tensor(0.9878)\n",
            "tensor(0.9876)\n",
            "tensor(0.9879)\n",
            "tensor(0.9896)\n",
            "tensor(0.9907)\n",
            "tensor(0.9895)\n",
            "tensor(0.9889)\n",
            "tensor(0.9898)\n"
          ],
          "name": "stdout"
        }
      ]
    },
    {
      "cell_type": "code",
      "metadata": {
        "id": "kt5aaiMgSnWV",
        "colab_type": "code",
        "colab": {
          "base_uri": "https://localhost:8080/",
          "height": 153
        },
        "outputId": "6e5939fc-8424-44c9-cb3c-2258c1b24a93"
      },
      "source": [
        "lenet5.forward(X_test)"
      ],
      "execution_count": 35,
      "outputs": [
        {
          "output_type": "execute_result",
          "data": {
            "text/plain": [
              "tensor([[ -5.9865,   0.0931,  -1.5361,  ...,  25.0723,  -4.6183,   3.8424],\n",
              "        [  2.2943,   1.9015,  25.6710,  ...,  -5.9593,   4.6402,  -6.1186],\n",
              "        [ -2.7020,  24.1293,  -2.8759,  ...,   2.7067,   1.0890,  -5.8098],\n",
              "        ...,\n",
              "        [ -9.4006,  -3.2353,  -4.7947,  ...,  -0.8612,   0.1374,   6.5224],\n",
              "        [ -1.9373,  -4.9278, -12.2250,  ..., -11.0302,   5.6198,  -4.1411],\n",
              "        [  5.5723,  -5.6313,  -0.2757,  ..., -16.1524,   1.2937,  -6.5716]],\n",
              "       device='cuda:0', grad_fn=<AddmmBackward>)"
            ]
          },
          "metadata": {
            "tags": []
          },
          "execution_count": 35
        }
      ]
    },
    {
      "cell_type": "code",
      "metadata": {
        "id": "9gqay21pSsnk",
        "colab_type": "code",
        "colab": {
          "base_uri": "https://localhost:8080/",
          "height": 269
        },
        "outputId": "798fcd40-5ce3-4a5f-b9a1-5c3c21f0fc49"
      },
      "source": [
        "# plt.plot(test_accuracy_history);\n",
        "plt.plot(test_loss_history);"
      ],
      "execution_count": 36,
      "outputs": [
        {
          "output_type": "display_data",
          "data": {
            "image/png": "[encoded data removed]",
            "text/plain": [
              "<Figure size 432x288 with 1 Axes>"
            ]
          },
          "metadata": {
            "tags": []
          }
        }
      ]
    }
  ]
}